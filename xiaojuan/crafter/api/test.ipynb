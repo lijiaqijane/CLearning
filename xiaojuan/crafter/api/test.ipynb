{
 "cells": [
  {
   "cell_type": "code",
   "execution_count": 9,
   "metadata": {},
   "outputs": [],
   "source": [
    "import argparse, pathlib\n",
    "import crafter\n",
    "from utils import *\n",
    "from envWrapper import *\n",
    "args = argparse.Namespace()\n",
    "args.record = pathlib.Path(\"/home/txx/projects_new/CCrafter/test_world/world_ach1\")\n",
    "args.gen_world = False\n",
    "\n",
    "\n",
    "env = crafter.Env(args = args)\n",
    "obs = env.reset()\n",
    "obs, reward, done, info = env.step(0)"
   ]
  },
  {
   "cell_type": "code",
   "execution_count": 20,
   "metadata": {},
   "outputs": [
    {
     "name": "stdout",
     "output_type": "stream",
     "text": [
      "The nearest position of value 14 to the center point (4, 3) is (8, 2)\n"
     ]
    }
   ],
   "source": [
    "import numpy as np\n",
    "\n",
    "def find_nearest_manhattan(matrix, target, center):\n",
    "    rows, cols = matrix.shape\n",
    "    x, y = np.meshgrid(range(rows), range(cols), indexing='ij')\n",
    "    \n",
    "    # Calculate Manhattan distances from the center\n",
    "    manhattan_distances = np.abs(x - center[0]) + np.abs(y - center[1])\n",
    "    \n",
    "    # Create a mask for the target value\n",
    "    target_mask = matrix == target\n",
    "    \n",
    "    # Apply the mask to the Manhattan distances, set non-targets to a high number\n",
    "    valid_distances = np.where(target_mask, manhattan_distances, np.inf)\n",
    "    \n",
    "    # Find the position of the minimum distance where the target value is located\n",
    "    min_idx = np.argmin(valid_distances)\n",
    "    nearest_position = np.unravel_index(min_idx, matrix.shape)\n",
    "\n",
    "    return nearest_position\n",
    "\n",
    "# Example matrix\n",
    "matrix = np.array([\n",
    "    [6, 2, 2, 2, 2, 2, 2],\n",
    "    [2, 2, 2, 2, 2, 2, 2],\n",
    "    [2, 2, 2, 2, 2, 2, 2],\n",
    "    [2, 2, 2, 2, 2, 2, 2],\n",
    "    [2, 2, 2, 13, 2, 2, 2],\n",
    "    [2, 2, 2, 2, 2, 2, 2],\n",
    "    [2, 2, 2, 2, 2, 2, 2],\n",
    "    [2, 2, 2, 2, 2, 2, 2],\n",
    "    [2, 2, 14, 2, 2, 2, 6]\n",
    "])\n",
    "\n",
    "center_point = (4, 3)  # Center point coordinates\n",
    "target_value = 14  # Value to find\n",
    "\n",
    "nearest_position = find_nearest_manhattan(matrix, target_value, center_point)\n",
    "print(f\"The nearest position of value {target_value} to the center point {center_point} is {nearest_position}\")\n"
   ]
  },
  {
   "cell_type": "code",
   "execution_count": null,
   "metadata": {},
   "outputs": [],
   "source": [
    "\n",
    "class AgentController:\n",
    "    def __init__(self, env, wrapper):\n",
    "        self.env = env\n",
    "        self.wrapper = wrapper  # Use a private attribute to store the info\n",
    "\n",
    "    @property\n",
    "    def info(self):\n",
    "        \"\"\"The property getter for the info attribute.\"\"\"\n",
    "        return self._info\n",
    "\n",
    "    @info.setter\n",
    "    def info(self, value):\n",
    "        \"\"\"The property setter for the info attribute.\"\"\"\n",
    "        if isinstance(value, dict):\n",
    "            self._info = value\n",
    "        else:\n",
    "            raise ValueError(\"Info must be a dictionary.\")\n",
    "\n",
    "    # mine block in the world\n",
    "    def mine_block(self, block_name, amount):\n",
    "        pass\n",
    "    def place_block(self, name, position):\n",
    "        pass\n",
    "    def find_block(self, name, distance):\n",
    "        pass\n",
    "\n",
    "\n"
   ]
  }
 ],
 "metadata": {
  "kernelspec": {
   "display_name": "crafter",
   "language": "python",
   "name": "python3"
  },
  "language_info": {
   "codemirror_mode": {
    "name": "ipython",
    "version": 3
   },
   "file_extension": ".py",
   "mimetype": "text/x-python",
   "name": "python",
   "nbconvert_exporter": "python",
   "pygments_lexer": "ipython3",
   "version": "3.9.19"
  }
 },
 "nbformat": 4,
 "nbformat_minor": 2
}
