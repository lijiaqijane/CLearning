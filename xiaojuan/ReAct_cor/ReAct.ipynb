{
 "cells": [
  {
   "cell_type": "code",
   "execution_count": 1,
   "metadata": {},
   "outputs": [],
   "source": [
    "from openai import AzureOpenAI\n",
    "from langchain.prompts import SystemMessagePromptTemplate\n",
    "from langchain.schema import AIMessage, HumanMessage, SystemMessage\n",
    "from utils import *"
   ]
  },
  {
   "cell_type": "code",
   "execution_count": 2,
   "metadata": {},
   "outputs": [
    {
     "name": "stdout",
     "output_type": "stream",
     "text": [
      "You are a helpful assistant playing a game similar to Minecraft.\n",
      "\n",
      "Here are the available actions (controller API functions):\n",
      "\n",
      "{programs}\n",
      "\n",
      "Your task is to: Unlock following achievements < Collect Coal, Collect Diamond, Collect Drink, Collect Iron, Collect Sapling, Collect Stone, Collect Wood, Defeat Skeleton, Defeat Zombie, Eat Cow, Eat Plant, Make Iron Pickaxe, Make Iron Sword, Make Stone Pickaxe, Make Stone Sword, Make Wood Pickaxe, Make Wood Sword, Place Furnace, Place Plant, Place Stone, Place Table, Wake Up >\n",
      "\n",
      "I will give the player's in-game observation, including whether the action was executed successfully or not, the player's status, nearby block and entities and the inventory. You should then respond to me with Thought or Action. Thought can reason about the current situation, and Action can be the controller API functions.\n",
      "\n",
      "If you respond with Thought, you should only respond in the format: > Think: ...\n",
      "If you respond with Action, you should only respond in the format: > Action: ...\n",
      "\n",
      "# Bot is the agent that interacts with the environment. It has the following methods:\n",
      "bot.getToBlock(block_name); # move the bot to the block. Note not get into the block, but get directly adjacent to it. E.g., bot.getToBlock('stone') will move the bot to the nearest stone block.\n",
      "bot.mineBlock(block_name); # mine the block. E.g., bot.mineBlock('stone') will mine the front stone block.\n",
      "bot.followMob(entity); # move the bot to the entity. Note the entity can move, which differs from block. E.g., bot.followMob('zombie') will move the bot to the nearest pig.\n",
      "bot.attackMob(entity); # attack the entity. E.g., bot.attackMob('zombie') will attack the front zombie.\n",
      "bot.exploreUntil(name, direction); # move the bot in the direction until the block with the name is in the view. If the move steps exceed the 10 steps limit, the bot will return 'failed'. The direction includes 'north', 'south', 'east', 'west', 'north-west', 'north-east', 'south-west', 'south-east'. E.g., bot.exploreUntil('wood', 'north') will move the bot north until the bot sees a wood block.\n",
      "bot.exploreDirection(direction); # directs the bot to explore in a specified direction.. E.g., bot.exploreDirection('north') will move the bot north about 10 steps.\n",
      "bot.sleep(); # put the bot to sleep.\n",
      "bot.wake_up(); # wake the bot up.\n",
      "bot.place_stone(); # place a stone block\n",
      "bot.place_table(); # place a crafting table\n",
      "bot.place_furnace(); # place a furnace\n",
      "bot.place_plant(); # place a plant\n",
      "bot.make_wood_pickaxe(); # craft a wood pickaxe\n",
      "bot.make_stone_pickaxe(); # craft a stone pickaxe\n",
      "bot.make_iron_pickaxe(); # craft an iron pickaxe\n",
      "bot.make_wood_sword(); # craft a wood sword\n",
      "bot.make_stone_sword(); # craft a stone sword\n",
      "bot.make_iron_sword(); # craft an iron sword\n",
      "\n"
     ]
    }
   ],
   "source": [
    "system_template = load_prompt('system_prompt.txt')\n",
    "print(system_template)\n",
    "programs = load_text('programs.txt')\n",
    "print(programs)\n",
    "system_message_prompt = SystemMessagePromptTemplate.from_template(\n",
    "            system_template\n",
    ")\n",
    "\n",
    "system_message = system_message_prompt.format(\n",
    "    programs=programs\n",
    ")\n",
    "assert isinstance(system_message, SystemMessage)"
   ]
  },
  {
   "cell_type": "code",
   "execution_count": 5,
   "metadata": {},
   "outputs": [
    {
     "name": "stdout",
     "output_type": "stream",
     "text": [
      "You are a helpful assistant playing a game similar to Minecraft.\n",
      "\n",
      "Here are the available actions (controller API functions):\n",
      "\n",
      "# Bot is the agent that interacts with the environment. It has the following methods:\n",
      "bot.getToBlock(block_name); # move the bot to the block. Note not get into the block, but get directly adjacent to it. E.g., bot.getToBlock('stone') will move the bot to the nearest stone block.\n",
      "bot.mineBlock(block_name); # mine the block. E.g., bot.mineBlock('stone') will mine the front stone block.\n",
      "bot.followMob(entity); # move the bot to the entity. Note the entity can move, which differs from block. E.g., bot.followMob('zombie') will move the bot to the nearest pig.\n",
      "bot.attackMob(entity); # attack the entity. E.g., bot.attackMob('zombie') will attack the front zombie.\n",
      "bot.exploreUntil(name, direction); # move the bot in the direction until the block with the name is in the view. If the move steps exceed the 10 steps limit, the bot will return 'failed'. The direction includes 'north', 'south', 'east', 'west', 'north-west', 'north-east', 'south-west', 'south-east'. E.g., bot.exploreUntil('wood', 'north') will move the bot north until the bot sees a wood block.\n",
      "bot.exploreDirection(direction); # directs the bot to explore in a specified direction.. E.g., bot.exploreDirection('north') will move the bot north about 10 steps.\n",
      "bot.sleep(); # put the bot to sleep.\n",
      "bot.wake_up(); # wake the bot up.\n",
      "bot.place_stone(); # place a stone block\n",
      "bot.place_table(); # place a crafting table\n",
      "bot.place_furnace(); # place a furnace\n",
      "bot.place_plant(); # place a plant\n",
      "bot.make_wood_pickaxe(); # craft a wood pickaxe\n",
      "bot.make_stone_pickaxe(); # craft a stone pickaxe\n",
      "bot.make_iron_pickaxe(); # craft an iron pickaxe\n",
      "bot.make_wood_sword(); # craft a wood sword\n",
      "bot.make_stone_sword(); # craft a stone sword\n",
      "bot.make_iron_sword(); # craft an iron sword\n",
      "\n",
      "\n",
      "Your task is to: Unlock following achievements < Collect Coal, Collect Diamond, Collect Drink, Collect Iron, Collect Sapling, Collect Stone, Collect Wood, Defeat Skeleton, Defeat Zombie, Eat Cow, Eat Plant, Make Iron Pickaxe, Make Iron Sword, Make Stone Pickaxe, Make Stone Sword, Make Wood Pickaxe, Make Wood Sword, Place Furnace, Place Plant, Place Stone, Place Table, Wake Up >\n",
      "\n",
      "I will give the player's in-game observation, including whether the action was executed successfully or not, the player's status, nearby block and entities and the inventory. You should then respond to me with Thought or Action. Thought can reason about the current situation, and Action can be the controller API functions.\n",
      "\n",
      "If you respond with Thought, you should only respond in the format: > Think: ...\n",
      "If you respond with Action, you should only respond in the format: > Action: ...\n",
      "\n"
     ]
    }
   ],
   "source": [
    "print(system_message.content)"
   ]
  },
  {
   "cell_type": "code",
   "execution_count": null,
   "metadata": {},
   "outputs": [],
   "source": [
    "REGION = \"northcentralus\" \n",
    "MODEL = \"gpt-35-turbo-0125\"\n",
    "\n",
    "API_KEY = \"a88279e1dbf26324c96fe10212c60fe6\"\n",
    "\n",
    "API_BASE = \"https://api.tonggpt.mybigai.ac.cn/proxy\" \n",
    "ENDPOINT = f\"{API_BASE}/{REGION}\"\n",
    "\n",
    "llm = AzureOpenAI(\n",
    "    model_name=\"gpt-3.5-turbo\",\n",
    "    api_key=API_KEY,\n",
    "    api_version=\"2024-02-01\",\n",
    "    azure_endpoint=ENDPOINT,\n",
    "    )"
   ]
  },
  {
   "cell_type": "code",
   "execution_count": null,
   "metadata": {},
   "outputs": [],
   "source": [
    "# response = llm.chat.completions.create( model=MODEL, messages=[ {\"role\": \"user\", \"content\": \"Say Hello!\"} ], )\n",
    "\n",
    "# print(response.model_dump_json(indent=2)) \n",
    "# print(response.choices[0].message.content)\n",
    "llm.invoke('tell me a joke')"
   ]
  },
  {
   "cell_type": "code",
   "execution_count": null,
   "metadata": {},
   "outputs": [],
   "source": []
  }
 ],
 "metadata": {
  "kernelspec": {
   "display_name": "crafter",
   "language": "python",
   "name": "python3"
  },
  "language_info": {
   "codemirror_mode": {
    "name": "ipython",
    "version": 3
   },
   "file_extension": ".py",
   "mimetype": "text/x-python",
   "name": "python",
   "nbconvert_exporter": "python",
   "pygments_lexer": "ipython3",
   "version": "3.9.19"
  }
 },
 "nbformat": 4,
 "nbformat_minor": 2
}
